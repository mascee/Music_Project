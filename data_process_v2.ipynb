{
 "cells": [
  {
   "cell_type": "code",
   "execution_count": null,
   "id": "45a0c944-7950-4b09-a519-dd1c9be110bf",
   "metadata": {},
   "outputs": [],
   "source": [
    "# pip install pydub // You need to install pydub to run this notebook"
   ]
  },
  {
   "cell_type": "code",
   "execution_count": null,
   "id": "0b7e26d1-bc4a-4f44-8ce7-a878f4187aff",
   "metadata": {},
   "outputs": [],
   "source": [
    "import os\n",
    "import pandas as pd\n",
    "import numpy as np\n",
    "import librosa\n",
    "from pydub import AudioSegment"
   ]
  },
  {
   "cell_type": "code",
   "execution_count": null,
   "id": "d011cf11-25b0-4df7-a92e-05f87b9b89c8",
   "metadata": {},
   "outputs": [],
   "source": [
    "# This line usually takes 25-30 minutes to run code for all audio files \n",
    "BASE_PATH = \"data/\"\n",
    "data_df=[]\n",
    "genres = os.listdir(BASE_PATH)\n",
    "for g in genres:\n",
    "    genre_path = os.path.join(BASE_PATH, g)\n",
    "    for file_name in os.listdir(genre_path):\n",
    "        song_path = os.path.join(genre_path, file_name)\n",
    "\n",
    "        try:\n",
    "            y, sr = librosa.load(song_path, mono=True)\n",
    "            segment_duration = 3 \n",
    "            samples_per_segment = segment_duration * sr\n",
    "            num_segments = len(y) // samples_per_segment \n",
    "\n",
    "            for i in range(num_segments):\n",
    "                start = i * samples_per_segment\n",
    "                end = start + samples_per_segment\n",
    "                segment = y[start:end]\n",
    "\n",
    "                if len(segment) < samples_per_segment:\n",
    "                    continue\n",
    "\n",
    "                chroma_stft = librosa.feature.chroma_stft(y=segment, sr=sr)\n",
    "                rms = librosa.feature.rms(y=segment)\n",
    "                spec_cent = librosa.feature.spectral_centroid(y=segment, sr=sr)\n",
    "                spec_bw = librosa.feature.spectral_bandwidth(y=segment, sr=sr)\n",
    "                spec_flat = librosa.feature.spectral_flatness(y=segment)\n",
    "                rolloff = librosa.feature.spectral_rolloff(y=segment, sr=sr)\n",
    "                zcr = librosa.feature.zero_crossing_rate(segment)\n",
    "                harmony, perceptr = librosa.effects.harmonic(segment), librosa.effects.percussive(segment)\n",
    "                tempo, _ = librosa.beat.beat_track(y=segment, sr=sr)\n",
    "                mfcc = librosa.feature.mfcc(y=segment, sr=sr, n_mfcc=20)\n",
    "                tonnetz = librosa.feature.tonnetz(y=segment, sr=sr)\n",
    "                cens = librosa.feature.chroma_cens(y=segment, sr=sr)\n",
    "\n",
    "                features = [\n",
    "                    f\"{file_name}_{i+1}\", len(segment),\n",
    "                    np.mean(chroma_stft), np.var(chroma_stft),\n",
    "                    np.mean(rms), np.var(rms),\n",
    "                    np.mean(spec_cent), np.var(spec_cent),\n",
    "                    np.mean(spec_bw), np.var(spec_bw),\n",
    "                    np.mean(spec_flat), np.var(spec_flat),\n",
    "                    np.mean(rolloff), np.var(rolloff),\n",
    "                    np.mean(zcr), np.var(zcr),\n",
    "                    np.mean(harmony), np.var(harmony),\n",
    "                    np.mean(perceptr), np.var(perceptr),\n",
    "                    np.mean(tonnetz), np.var(tonnetz),\n",
    "                    np.mean(cens), np.var(cens),\n",
    "                    float(tempo)\n",
    "                ]\n",
    "\n",
    "                for coeff in mfcc:\n",
    "                    features.append(np.mean(coeff))\n",
    "                    features.append(np.var(coeff))\n",
    "\n",
    "                features.append(g)\n",
    "                data_df.append(features)\n",
    "\n",
    "        except Exception as e:\n",
    "            print(f\"Error processing {song_path}: {e}\")\n"
   ]
  },
  {
   "cell_type": "code",
   "execution_count": null,
   "id": "3f86aa7c-489f-476b-a14c-b8276216638c",
   "metadata": {},
   "outputs": [],
   "source": [
    "columns=['filename', 'length',\n",
    "         'chroma_stft_mean', 'chroma_stft_var',\n",
    "         'rms_mean', 'rms_var',\n",
    "         'spectral_centroid_mean', 'spectral_centroid_var',\n",
    "         'spectral_bandwidth_mean', 'spectral_bandwidth_var',\n",
    "         'spectral_flatness_mean', 'spectral_flatness_var',\n",
    "         'rolloff_mean', 'rolloff_var',\n",
    "         'zero_crossing_rate_mean','zero_crossing_rate_var',\n",
    "         'harmony_mean', 'harmony_var',\n",
    "         'perceptr_mean', 'perceptr_var',\n",
    "         'tonnetz_mean', 'tonnetz_var',\n",
    "         'chroma_cens_mean', 'chroma_cens_var',\n",
    "         'tempo'] + \\\n",
    "         [f'mfcc{i+1}_{stat}' for i in range(20) for stat in ['mean', 'var']]+\\\n",
    "         ['label']\n",
    "df = pd.DataFrame(data_df, columns=columns)\n",
    "df.to_csv('csv/mldata_v2.csv',index=False)"
   ]
  }
 ],
 "metadata": {
  "kernelspec": {
   "display_name": "Python 3 (ipykernel)",
   "language": "python",
   "name": "python3"
  },
  "language_info": {
   "codemirror_mode": {
    "name": "ipython",
    "version": 3
   },
   "file_extension": ".py",
   "mimetype": "text/x-python",
   "name": "python",
   "nbconvert_exporter": "python",
   "pygments_lexer": "ipython3",
   "version": "3.12.4"
  }
 },
 "nbformat": 4,
 "nbformat_minor": 5
}
